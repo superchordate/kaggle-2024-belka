{
 "cells": [
  {
   "cell_type": "code",
   "execution_count": 10,
   "id": "5ec700c6-83cb-481d-b575-a27a3f1554e0",
   "metadata": {},
   "outputs": [],
   "source": [
    "from annoy import AnnoyIndex\n",
    "import polars as pl\n",
    "import numpy as np"
   ]
  },
  {
   "cell_type": "code",
   "execution_count": 5,
   "id": "939517c7-94a3-4a6a-86a7-7f5f316c6784",
   "metadata": {},
   "outputs": [
    {
     "data": {
      "text/html": [
       "<div><style>\n",
       ".dataframe > thead > tr,\n",
       ".dataframe > tbody > tr {\n",
       "  text-align: right;\n",
       "  white-space: pre-wrap;\n",
       "}\n",
       "</style>\n",
       "<small>shape: (5, 6)</small><table border=\"1\" class=\"dataframe\"><thead><tr><th>index</th><th>smile</th><th>ecfp</th><th>ecfp_pca</th><th>onehot-pca</th><th>onehot_pca</th></tr><tr><td>i64</td><td>str</td><td>list[i64]</td><td>list[f64]</td><td>list[f64]</td><td>list[f64]</td></tr></thead><tbody><tr><td>0</td><td>&quot;Br.Br.NCC1CCCN…</td><td>[0, 0, … 0]</td><td>[-0.623631, 1.179455, … 0.042602]</td><td>[-4.098411, 0.498678, … -0.011183]</td><td>[-4.098411, 0.498678, … -0.011182]</td></tr><tr><td>1</td><td>&quot;Br.NCc1cccc(Br…</td><td>[0, 0, … 0]</td><td>[-1.059422, 0.214484, … -0.026173]</td><td>[-3.521219, -3.102144, … 0.240914]</td><td>[-3.521219, -3.102144, … 0.240914]</td></tr><tr><td>2</td><td>&quot;C#CCOc1ccc(CN)…</td><td>[0, 0, … 0]</td><td>[-0.7829, 0.581478, … 0.137127]</td><td>[-1.921474, 0.660365, … 0.950667]</td><td>[-1.921474, 0.660365, … 0.950667]</td></tr><tr><td>3</td><td>&quot;C#CCOc1cccc(CN…</td><td>[0, 0, … 0]</td><td>[-0.613241, 0.365505, … 0.10522]</td><td>[-1.921474, 0.660365, … 0.950667]</td><td>[-1.921474, 0.660365, … 0.950667]</td></tr><tr><td>4</td><td>&quot;C#CC[C@@H](CC(…</td><td>[0, 1, … 0]</td><td>[3.472075, 0.095289, … -0.086727]</td><td>[6.583925, 4.480118, … 0.27448]</td><td>[6.583925, 4.480118, … 0.274478]</td></tr></tbody></table></div>"
      ],
      "text/plain": [
       "shape: (5, 6)\n",
       "┌───────┬────────────────────────┬─────────────┬───────────────────────┬───────────────────────┬───────────────────────┐\n",
       "│ index ┆ smile                  ┆ ecfp        ┆ ecfp_pca              ┆ onehot-pca            ┆ onehot_pca            │\n",
       "│ ---   ┆ ---                    ┆ ---         ┆ ---                   ┆ ---                   ┆ ---                   │\n",
       "│ i64   ┆ str                    ┆ list[i64]   ┆ list[f64]             ┆ list[f64]             ┆ list[f64]             │\n",
       "╞═══════╪════════════════════════╪═════════════╪═══════════════════════╪═══════════════════════╪═══════════════════════╡\n",
       "│ 0     ┆ Br.Br.NCC1CCCN1c1cccnn ┆ [0, 0, … 0] ┆ [-0.623631, 1.179455, ┆ [-4.098411, 0.498678, ┆ [-4.098411, 0.498678, │\n",
       "│       ┆ 1                      ┆             ┆ … 0.042602…           ┆ … -0.01118…           ┆ … -0.01118…           │\n",
       "│ 1     ┆ Br.NCc1cccc(Br)n1      ┆ [0, 0, … 0] ┆ [-1.059422, 0.214484, ┆ [-3.521219,           ┆ [-3.521219,           │\n",
       "│       ┆                        ┆             ┆ … -0.02617…           ┆ -3.102144, … 0.24091… ┆ -3.102144, … 0.24091… │\n",
       "│ 2     ┆ C#CCOc1ccc(CN)cc1.Cl   ┆ [0, 0, … 0] ┆ [-0.7829, 0.581478, … ┆ [-1.921474, 0.660365, ┆ [-1.921474, 0.660365, │\n",
       "│       ┆                        ┆             ┆ 0.137127]             ┆ … 0.950667…           ┆ … 0.950667…           │\n",
       "│ 3     ┆ C#CCOc1cccc(CN)c1.Cl   ┆ [0, 0, … 0] ┆ [-0.613241, 0.365505, ┆ [-1.921474, 0.660365, ┆ [-1.921474, 0.660365, │\n",
       "│       ┆                        ┆             ┆ … 0.10522]            ┆ … 0.950667…           ┆ … 0.950667…           │\n",
       "│ 4     ┆ C#CC[C@@H](CC(=O)O)NC( ┆ [0, 1, … 0] ┆ [3.472075, 0.095289,  ┆ [6.583925, 4.480118,  ┆ [6.583925, 4.480118,  │\n",
       "│       ┆ =O)OCC1c2c…            ┆             ┆ … -0.086727…          ┆ … 0.27448]            ┆ … 0.274478]           │\n",
       "└───────┴────────────────────────┴─────────────┴───────────────────────┴───────────────────────┴───────────────────────┘"
      ]
     },
     "execution_count": 5,
     "metadata": {},
     "output_type": "execute_result"
    }
   ],
   "source": [
    "blocks = pl.read_parquet('../out/train/building_blocks.parquet')\n",
    "blocks.head()"
   ]
  },
  {
   "cell_type": "code",
   "execution_count": 6,
   "id": "554cdd52-f75e-41ff-a7e0-17b533a6c07b",
   "metadata": {},
   "outputs": [
    {
     "data": {
      "text/html": [
       "<div><style>\n",
       ".dataframe > thead > tr,\n",
       ".dataframe > tbody > tr {\n",
       "  text-align: right;\n",
       "  white-space: pre-wrap;\n",
       "}\n",
       "</style>\n",
       "<small>shape: (5, 6)</small><table border=\"1\" class=\"dataframe\"><thead><tr><th>id</th><th>protein_name</th><th>binds</th><th>buildingblock1_index</th><th>buildingblock2_index</th><th>buildingblock3_index</th></tr><tr><td>i64</td><td>str</td><td>i64</td><td>i64</td><td>i64</td><td>i64</td></tr></thead><tbody><tr><td>1090779</td><td>&quot;BRD4&quot;</td><td>0</td><td>5</td><td>3</td><td>0</td></tr><tr><td>1090782</td><td>&quot;BRD4&quot;</td><td>0</td><td>5</td><td>3</td><td>1</td></tr><tr><td>1090788</td><td>&quot;BRD4&quot;</td><td>0</td><td>5</td><td>3</td><td>3</td></tr><tr><td>1090794</td><td>&quot;BRD4&quot;</td><td>0</td><td>5</td><td>3</td><td>11</td></tr><tr><td>1090800</td><td>&quot;BRD4&quot;</td><td>0</td><td>5</td><td>3</td><td>14</td></tr></tbody></table></div>"
      ],
      "text/plain": [
       "shape: (5, 6)\n",
       "┌─────────┬──────────────┬───────┬──────────────────────┬──────────────────────┬──────────────────────┐\n",
       "│ id      ┆ protein_name ┆ binds ┆ buildingblock1_index ┆ buildingblock2_index ┆ buildingblock3_index │\n",
       "│ ---     ┆ ---          ┆ ---   ┆ ---                  ┆ ---                  ┆ ---                  │\n",
       "│ i64     ┆ str          ┆ i64   ┆ i64                  ┆ i64                  ┆ i64                  │\n",
       "╞═════════╪══════════════╪═══════╪══════════════════════╪══════════════════════╪══════════════════════╡\n",
       "│ 1090779 ┆ BRD4         ┆ 0     ┆ 5                    ┆ 3                    ┆ 0                    │\n",
       "│ 1090782 ┆ BRD4         ┆ 0     ┆ 5                    ┆ 3                    ┆ 1                    │\n",
       "│ 1090788 ┆ BRD4         ┆ 0     ┆ 5                    ┆ 3                    ┆ 3                    │\n",
       "│ 1090794 ┆ BRD4         ┆ 0     ┆ 5                    ┆ 3                    ┆ 11                   │\n",
       "│ 1090800 ┆ BRD4         ┆ 0     ┆ 5                    ┆ 3                    ┆ 14                   │\n",
       "└─────────┴──────────────┴───────┴──────────────────────┴──────────────────────┴──────────────────────┘"
      ]
     },
     "execution_count": 6,
     "metadata": {},
     "output_type": "execute_result"
    }
   ],
   "source": [
    "train = pl.read_parquet('../out/train/train/base/base-BRD4-01.parquet')\n",
    "train.head()"
   ]
  },
  {
   "cell_type": "code",
   "execution_count": 11,
   "id": "f58c47fd-e619-4e56-a7de-c5f203af4178",
   "metadata": {},
   "outputs": [],
   "source": [
    "def features(dt, blocks):\n",
    "\n",
    "    iblocks_ecfp_pca = [np.vstack(blocks['ecfp_pca'][dt[x]]) for x in ['buildingblock1_index', 'buildingblock2_index', 'buildingblock3_index']]\n",
    "    iblocks_ecfp_pca = np.concatenate(iblocks_ecfp_pca, axis = 1)\n",
    "\n",
    "    iblocks_onehot_pca = [np.vstack(blocks['onehot_pca'][dt[x]]) for x in ['buildingblock1_index', 'buildingblock2_index', 'buildingblock3_index']]\n",
    "    iblocks_onehot_pca = np.concatenate(iblocks_onehot_pca, axis = 1)\n",
    "\n",
    "    return(np.concatenate([iblocks_ecfp_pca, iblocks_onehot_pca], axis = 1))\n",
    "\n",
    "x = features(train, blocks)"
   ]
  },
  {
   "cell_type": "code",
   "execution_count": 15,
   "id": "84e07ccf-874a-44b4-8977-eda394330fdc",
   "metadata": {},
   "outputs": [],
   "source": [
    "# initialize the index with n dimensions.\n",
    "aindex = AnnoyIndex(len(x[0]), 'euclidean')"
   ]
  },
  {
   "cell_type": "code",
   "execution_count": 16,
   "id": "ad1854de-17cd-48ae-87c1-922e3b29f827",
   "metadata": {},
   "outputs": [],
   "source": [
    "# add items.\n",
    "for i in range(len(x)):\n",
    "    aindex.add_item(i, x[i])"
   ]
  },
  {
   "cell_type": "code",
   "execution_count": 17,
   "id": "41321b4c-758d-4714-aabd-ca3491f52785",
   "metadata": {},
   "outputs": [
    {
     "data": {
      "text/plain": [
       "True"
      ]
     },
     "execution_count": 17,
     "metadata": {},
     "output_type": "execute_result"
    }
   ],
   "source": [
    "aindex.build(10)"
   ]
  },
  {
   "cell_type": "code",
   "execution_count": 19,
   "id": "0be0462e-5b30-4aff-8353-2cc8b5b6958d",
   "metadata": {},
   "outputs": [
    {
     "data": {
      "text/plain": [
       "True"
      ]
     },
     "execution_count": 19,
     "metadata": {},
     "output_type": "execute_result"
    }
   ],
   "source": [
    "aindex.save('../out/train/train1.ann')"
   ]
  },
  {
   "cell_type": "code",
   "execution_count": null,
   "id": "25441c43-792a-4b14-a7e9-d273655a668b",
   "metadata": {},
   "outputs": [],
   "source": [
    "# Load the index\n",
    "u = AnnoyIndex(40, 'angular')\n",
    "u.load('my_index.ann')"
   ]
  }
 ],
 "metadata": {
  "kernelspec": {
   "display_name": "Python 3 (ipykernel)",
   "language": "python",
   "name": "python3"
  },
  "language_info": {
   "codemirror_mode": {
    "name": "ipython",
    "version": 3
   },
   "file_extension": ".py",
   "mimetype": "text/x-python",
   "name": "python",
   "nbconvert_exporter": "python",
   "pygments_lexer": "ipython3",
   "version": "3.11.8"
  }
 },
 "nbformat": 4,
 "nbformat_minor": 5
}
