{
 "cells": [
  {
   "cell_type": "code",
   "execution_count": 1,
   "id": "74027361-6608-4fb7-b697-b5cbc6d98a80",
   "metadata": {},
   "outputs": [],
   "source": [
    "import numpy as np\n",
    "import polars as pl\n",
    "import time"
   ]
  },
  {
   "cell_type": "code",
   "execution_count": 2,
   "id": "28950882-d32f-4235-ba98-5694c12409e8",
   "metadata": {},
   "outputs": [
    {
     "data": {
      "text/html": [
       "<div><style>\n",
       ".dataframe > thead > tr,\n",
       ".dataframe > tbody > tr {\n",
       "  text-align: right;\n",
       "  white-space: pre-wrap;\n",
       "}\n",
       "</style>\n",
       "<small>shape: (5, 5)</small><table border=\"1\" class=\"dataframe\"><thead><tr><th>index</th><th>smile</th><th>ecfp</th><th>ecfp_pca</th><th>onehot_pca</th></tr><tr><td>i64</td><td>str</td><td>list[i64]</td><td>list[f64]</td><td>list[f64]</td></tr></thead><tbody><tr><td>0</td><td>&quot;Br.Br.NCC1CCCN…</td><td>[0, 0, … 0]</td><td>[-0.623631, 1.179455, … -0.077481]</td><td>[-4.098411, 0.498678, … -0.011187]</td></tr><tr><td>1</td><td>&quot;Br.NCc1cccc(Br…</td><td>[0, 0, … 0]</td><td>[-1.059422, 0.214484, … 0.01271]</td><td>[-3.521219, -3.102144, … 0.240913]</td></tr><tr><td>2</td><td>&quot;C#CCOc1ccc(CN)…</td><td>[0, 0, … 0]</td><td>[-0.7829, 0.581478, … -0.098236]</td><td>[-1.921474, 0.660365, … 0.950661]</td></tr><tr><td>3</td><td>&quot;C#CCOc1cccc(CN…</td><td>[0, 0, … 0]</td><td>[-0.613241, 0.365505, … -0.046728]</td><td>[-1.921474, 0.660365, … 0.950661]</td></tr><tr><td>4</td><td>&quot;C#CC[C@@H](CC(…</td><td>[0, 1, … 0]</td><td>[3.472075, 0.095289, … -0.012011]</td><td>[6.583925, 4.480118, … 0.274481]</td></tr></tbody></table></div>"
      ],
      "text/plain": [
       "shape: (5, 5)\n",
       "┌───────┬───────────────────────────────────┬─────────────┬─────────────────────────┬───────────────────────────────────┐\n",
       "│ index ┆ smile                             ┆ ecfp        ┆ ecfp_pca                ┆ onehot_pca                        │\n",
       "│ ---   ┆ ---                               ┆ ---         ┆ ---                     ┆ ---                               │\n",
       "│ i64   ┆ str                               ┆ list[i64]   ┆ list[f64]               ┆ list[f64]                         │\n",
       "╞═══════╪═══════════════════════════════════╪═════════════╪═════════════════════════╪═══════════════════════════════════╡\n",
       "│ 0     ┆ Br.Br.NCC1CCCN1c1cccnn1           ┆ [0, 0, … 0] ┆ [-0.623631, 1.179455, … ┆ [-4.098411, 0.498678, … -0.01118… │\n",
       "│       ┆                                   ┆             ┆ -0.07748…               ┆                                   │\n",
       "│ 1     ┆ Br.NCc1cccc(Br)n1                 ┆ [0, 0, … 0] ┆ [-1.059422, 0.214484, … ┆ [-3.521219, -3.102144, … 0.24091… │\n",
       "│       ┆                                   ┆             ┆ 0.01271]                ┆                                   │\n",
       "│ 2     ┆ C#CCOc1ccc(CN)cc1.Cl              ┆ [0, 0, … 0] ┆ [-0.7829, 0.581478, …   ┆ [-1.921474, 0.660365, … 0.950661… │\n",
       "│       ┆                                   ┆             ┆ -0.098236]              ┆                                   │\n",
       "│ 3     ┆ C#CCOc1cccc(CN)c1.Cl              ┆ [0, 0, … 0] ┆ [-0.613241, 0.365505, … ┆ [-1.921474, 0.660365, … 0.950661… │\n",
       "│       ┆                                   ┆             ┆ -0.04672…               ┆                                   │\n",
       "│ 4     ┆ C#CC[C@@H](CC(=O)O)NC(=O)OCC1c2c… ┆ [0, 1, … 0] ┆ [3.472075, 0.095289, …  ┆ [6.583925, 4.480118, … 0.274481]  │\n",
       "│       ┆                                   ┆             ┆ -0.012011…              ┆                                   │\n",
       "└───────┴───────────────────────────────────┴─────────────┴─────────────────────────┴───────────────────────────────────┘"
      ]
     },
     "execution_count": 2,
     "metadata": {},
     "output_type": "execute_result"
    }
   ],
   "source": [
    "blocks = pl.read_parquet('../out/train/building_blocks.parquet')\n",
    "blocks.head()"
   ]
  },
  {
   "cell_type": "code",
   "execution_count": 3,
   "id": "9141509c-4850-4085-95f9-06b8174b1c6b",
   "metadata": {},
   "outputs": [
    {
     "data": {
      "text/html": [
       "<div><style>\n",
       ".dataframe > thead > tr,\n",
       ".dataframe > tbody > tr {\n",
       "  text-align: right;\n",
       "  white-space: pre-wrap;\n",
       "}\n",
       "</style>\n",
       "<small>shape: (5, 6)</small><table border=\"1\" class=\"dataframe\"><thead><tr><th>id</th><th>protein_name</th><th>binds</th><th>buildingblock1_index</th><th>buildingblock2_index</th><th>buildingblock3_index</th></tr><tr><td>i64</td><td>str</td><td>i64</td><td>i64</td><td>i64</td><td>i64</td></tr></thead><tbody><tr><td>4358142</td><td>&quot;BRD4&quot;</td><td>0</td><td>8</td><td>3</td><td>0</td></tr><tr><td>4358145</td><td>&quot;BRD4&quot;</td><td>0</td><td>8</td><td>3</td><td>1</td></tr><tr><td>4358151</td><td>&quot;BRD4&quot;</td><td>0</td><td>8</td><td>3</td><td>3</td></tr><tr><td>4358154</td><td>&quot;BRD4&quot;</td><td>0</td><td>8</td><td>3</td><td>10</td></tr><tr><td>4358157</td><td>&quot;BRD4&quot;</td><td>0</td><td>8</td><td>3</td><td>11</td></tr></tbody></table></div>"
      ],
      "text/plain": [
       "shape: (5, 6)\n",
       "┌─────────┬──────────────┬───────┬──────────────────────┬──────────────────────┬──────────────────────┐\n",
       "│ id      ┆ protein_name ┆ binds ┆ buildingblock1_index ┆ buildingblock2_index ┆ buildingblock3_index │\n",
       "│ ---     ┆ ---          ┆ ---   ┆ ---                  ┆ ---                  ┆ ---                  │\n",
       "│ i64     ┆ str          ┆ i64   ┆ i64                  ┆ i64                  ┆ i64                  │\n",
       "╞═════════╪══════════════╪═══════╪══════════════════════╪══════════════════════╪══════════════════════╡\n",
       "│ 4358142 ┆ BRD4         ┆ 0     ┆ 8                    ┆ 3                    ┆ 0                    │\n",
       "│ 4358145 ┆ BRD4         ┆ 0     ┆ 8                    ┆ 3                    ┆ 1                    │\n",
       "│ 4358151 ┆ BRD4         ┆ 0     ┆ 8                    ┆ 3                    ┆ 3                    │\n",
       "│ 4358154 ┆ BRD4         ┆ 0     ┆ 8                    ┆ 3                    ┆ 10                   │\n",
       "│ 4358157 ┆ BRD4         ┆ 0     ┆ 8                    ┆ 3                    ┆ 11                   │\n",
       "└─────────┴──────────────┴───────┴──────────────────────┴──────────────────────┴──────────────────────┘"
      ]
     },
     "execution_count": 3,
     "metadata": {},
     "output_type": "execute_result"
    }
   ],
   "source": [
    "train = pl.read_parquet('../out/train/train/base/base-BRD4-001.parquet')\n",
    "train.head()"
   ]
  },
  {
   "cell_type": "code",
   "execution_count": 4,
   "id": "8fdc79ac-57ce-4a5a-94eb-d805f79333ef",
   "metadata": {},
   "outputs": [
    {
     "name": "stdout",
     "output_type": "stream",
     "text": [
      "Elapsed time: 1.41 minutes\n",
      "[[ 3.52322333  0.13099574  1.66057898 ... -0.04508049  0.1078245\n",
      "  -0.07748132]\n",
      " [ 3.52322333  0.13099574  1.66057898 ...  0.05860765 -0.0295106\n",
      "   0.01271006]\n",
      " [ 3.52322333  0.13099574  1.66057898 ... -0.05801682 -0.00543795\n",
      "  -0.04672798]\n",
      " [ 3.52322333  0.13099574  1.66057898 ...  0.01891126  0.03817647\n",
      "   0.07556934]\n",
      " [ 3.52322333  0.13099574  1.66057898 ... -0.01334688  0.04931808\n",
      "  -0.00601576]]\n"
     ]
    }
   ],
   "source": [
    "def features(dt, blocks):\n",
    "    iblocks_ecfp_pca = [np.vstack(blocks['ecfp_pca'][dt[x]]) for x in ['buildingblock1_index', 'buildingblock2_index', 'buildingblock3_index']]\n",
    "    iblocks_ecfp_pca = np.concatenate(iblocks_ecfp_pca, axis = 1)\n",
    "    return(iblocks_ecfp_pca)\n",
    "\n",
    "start_time = time.time()\n",
    "x = features(train, blocks)\n",
    "print(f\"Elapsed time: {(time.time() - start_time)/60:.2f} minutes\")\n",
    "print(x[0:5])\n",
    "\n",
    "# 1.41 mins"
   ]
  },
  {
   "cell_type": "code",
   "execution_count": 7,
   "id": "8b1dcbc2-0916-44d5-94d2-42b72c42e30c",
   "metadata": {},
   "outputs": [
    {
     "ename": "MemoryError",
     "evalue": "Unable to allocate 2.09 GiB for an array with shape (651029, 430) and data type float64",
     "output_type": "error",
     "traceback": [
      "\u001b[1;31m---------------------------------------------------------------------------\u001b[0m",
      "\u001b[1;31mMemoryError\u001b[0m                               Traceback (most recent call last)",
      "Cell \u001b[1;32mIn[7], line 7\u001b[0m\n\u001b[0;32m      4\u001b[0m     \u001b[38;5;28;01mreturn\u001b[39;00m(iblocks_ecfp_pca)\n\u001b[0;32m      6\u001b[0m start_time \u001b[38;5;241m=\u001b[39m time\u001b[38;5;241m.\u001b[39mtime()\n\u001b[1;32m----> 7\u001b[0m x \u001b[38;5;241m=\u001b[39m \u001b[43mfeatures\u001b[49m\u001b[43m(\u001b[49m\u001b[43mtrain\u001b[49m\u001b[43m,\u001b[49m\u001b[43m \u001b[49m\u001b[43mblocks\u001b[49m\u001b[43m)\u001b[49m\n\u001b[0;32m      8\u001b[0m \u001b[38;5;28mprint\u001b[39m(\u001b[38;5;124mf\u001b[39m\u001b[38;5;124m\"\u001b[39m\u001b[38;5;124mElapsed time: \u001b[39m\u001b[38;5;132;01m{\u001b[39;00m(time\u001b[38;5;241m.\u001b[39mtime()\u001b[38;5;250m \u001b[39m\u001b[38;5;241m-\u001b[39m\u001b[38;5;250m \u001b[39mstart_time)\u001b[38;5;241m/\u001b[39m\u001b[38;5;241m60\u001b[39m\u001b[38;5;132;01m:\u001b[39;00m\u001b[38;5;124m.2f\u001b[39m\u001b[38;5;132;01m}\u001b[39;00m\u001b[38;5;124m minutes\u001b[39m\u001b[38;5;124m\"\u001b[39m)\n\u001b[0;32m      9\u001b[0m \u001b[38;5;28mprint\u001b[39m(x[\u001b[38;5;241m0\u001b[39m:\u001b[38;5;241m5\u001b[39m])\n",
      "Cell \u001b[1;32mIn[7], line 3\u001b[0m, in \u001b[0;36mfeatures\u001b[1;34m(dt, blocks)\u001b[0m\n\u001b[0;32m      1\u001b[0m \u001b[38;5;28;01mdef\u001b[39;00m \u001b[38;5;21mfeatures\u001b[39m(dt, blocks):\n\u001b[0;32m      2\u001b[0m     iblocks_ecfp_pca \u001b[38;5;241m=\u001b[39m [[\u001b[38;5;28mlist\u001b[39m(ix) \u001b[38;5;28;01mfor\u001b[39;00m ix \u001b[38;5;129;01min\u001b[39;00m blocks[\u001b[38;5;124m'\u001b[39m\u001b[38;5;124mecfp_pca\u001b[39m\u001b[38;5;124m'\u001b[39m][dt[x]]] \u001b[38;5;28;01mfor\u001b[39;00m x \u001b[38;5;129;01min\u001b[39;00m [\u001b[38;5;124m'\u001b[39m\u001b[38;5;124mbuildingblock1_index\u001b[39m\u001b[38;5;124m'\u001b[39m, \u001b[38;5;124m'\u001b[39m\u001b[38;5;124mbuildingblock2_index\u001b[39m\u001b[38;5;124m'\u001b[39m, \u001b[38;5;124m'\u001b[39m\u001b[38;5;124mbuildingblock3_index\u001b[39m\u001b[38;5;124m'\u001b[39m]]\n\u001b[1;32m----> 3\u001b[0m     iblocks_ecfp_pca \u001b[38;5;241m=\u001b[39m \u001b[43mnp\u001b[49m\u001b[38;5;241;43m.\u001b[39;49m\u001b[43mconcatenate\u001b[49m\u001b[43m(\u001b[49m\u001b[43miblocks_ecfp_pca\u001b[49m\u001b[43m,\u001b[49m\u001b[43m \u001b[49m\u001b[43maxis\u001b[49m\u001b[43m \u001b[49m\u001b[38;5;241;43m=\u001b[39;49m\u001b[43m \u001b[49m\u001b[38;5;241;43m1\u001b[39;49m\u001b[43m)\u001b[49m\n\u001b[0;32m      4\u001b[0m     \u001b[38;5;28;01mreturn\u001b[39;00m(iblocks_ecfp_pca)\n",
      "\u001b[1;31mMemoryError\u001b[0m: Unable to allocate 2.09 GiB for an array with shape (651029, 430) and data type float64"
     ]
    }
   ],
   "source": [
    "def features(dt, blocks):\n",
    "    iblocks_ecfp_pca = [[list(ix) for ix in blocks['ecfp_pca'][dt[x]]] for x in ['buildingblock1_index', 'buildingblock2_index', 'buildingblock3_index']]\n",
    "    iblocks_ecfp_pca = np.concatenate(iblocks_ecfp_pca, axis = 1)\n",
    "    return(iblocks_ecfp_pca)\n",
    "\n",
    "start_time = time.time()\n",
    "x = features(train, blocks)\n",
    "print(f\"Elapsed time: {(time.time() - start_time)/60:.2f} minutes\")\n",
    "print(x[0:5])\n",
    "\n",
    "#  mins"
   ]
  },
  {
   "cell_type": "code",
   "execution_count": 5,
   "id": "2db9125a-31de-4001-bb97-d3d8e343e79e",
   "metadata": {},
   "outputs": [
    {
     "name": "stdout",
     "output_type": "stream",
     "text": [
      "Elapsed time: 5.05 minutes\n",
      "[[ 3.52322333  0.13099574  1.66057898 ... -0.04508049  0.1078245\n",
      "  -0.07748132]\n",
      " [ 3.52322333  0.13099574  1.66057898 ...  0.05860765 -0.0295106\n",
      "   0.01271006]\n",
      " [ 3.52322333  0.13099574  1.66057898 ... -0.05801682 -0.00543795\n",
      "  -0.04672798]\n",
      " [ 3.52322333  0.13099574  1.66057898 ...  0.01891126  0.03817647\n",
      "   0.07556934]\n",
      " [ 3.52322333  0.13099574  1.66057898 ... -0.01334688  0.04931808\n",
      "  -0.00601576]]\n"
     ]
    }
   ],
   "source": [
    "# def features(dt, blocks):\n",
    "    \n",
    "#     blocks_ecfp_pca = []\n",
    "#     for i in ['buildingblock1_index', 'buildingblock2_index', 'buildingblock3_index']:\n",
    "#         iblocks_ecfp_pca = blocks['ecfp_pca'][dt[i]].to_numpy()\n",
    "#         iblocks_ecfp_pca = np.array([list(x) for x in iblocks_ecfp_pca]).astype('float')\n",
    "#         blocks_ecfp_pca.append(iblocks_ecfp_pca)\n",
    "#         del iblocks_ecfp_pca, i\n",
    "        \n",
    "#     blocks_ecfp_pca = np.concatenate(blocks_ecfp_pca, axis = 1)\n",
    "#     return(blocks_ecfp_pca)\n",
    "\n",
    "# start_time = time.time()\n",
    "# x = features(train, blocks)\n",
    "# print(f\"Elapsed time: {(time.time() - start_time)/60:.2f} minutes\")\n",
    "# print(x[0:5])"
   ]
  },
  {
   "cell_type": "code",
   "execution_count": 6,
   "id": "c28c0a71-d597-42c5-a1d9-414e6fe631bf",
   "metadata": {},
   "outputs": [
    {
     "name": "stdout",
     "output_type": "stream",
     "text": [
      "Elapsed time: 1.85 minutes\n",
      "[[ 3.52322333  0.13099574  1.66057898 ... -0.04508049  0.1078245\n",
      "  -0.07748132]\n",
      " [ 3.52322333  0.13099574  1.66057898 ...  0.05860765 -0.0295106\n",
      "   0.01271006]\n",
      " [ 3.52322333  0.13099574  1.66057898 ... -0.05801682 -0.00543795\n",
      "  -0.04672798]\n",
      " [ 3.52322333  0.13099574  1.66057898 ...  0.01891126  0.03817647\n",
      "   0.07556934]\n",
      " [ 3.52322333  0.13099574  1.66057898 ... -0.01334688  0.04931808\n",
      "  -0.00601576]]\n"
     ]
    }
   ],
   "source": [
    "def features(dt, blocks):\n",
    "\n",
    "    blocks = blocks.select(['index', 'ecfp_pca'])\n",
    "    dt = dt.select(['id', 'buildingblock1_index', 'buildingblock2_index', 'buildingblock3_index'])#.sample(10)\n",
    "\n",
    "    dt = dt.join(blocks, left_on = 'buildingblock1_index', right_on = 'index', how = 'inner').drop('buildingblock1_index').rename({'ecfp_pca': 'ecfp_pca1'})\n",
    "    dt = dt.join(blocks, left_on = 'buildingblock2_index', right_on = 'index', how = 'inner').drop('buildingblock2_index').rename({'ecfp_pca': 'ecfp_pca2'})\n",
    "    dt = dt.join(blocks, left_on = 'buildingblock3_index', right_on = 'index', how = 'inner').drop('buildingblock3_index').rename({'ecfp_pca': 'ecfp_pca3'})\n",
    "\n",
    "    dt = dt.with_columns(\n",
    "        pl.col('ecfp_pca1').list.concat(pl.col('ecfp_pca2').list.concat(pl.col('ecfp_pca3'))).alias('blocks_ecfp_pca')\n",
    "    ).select(['id', 'blocks_ecfp_pca'])\n",
    "\n",
    "    return(np.vstack(dt['blocks_ecfp_pca']))\n",
    "\n",
    "start_time = time.time()\n",
    "x = features(train, blocks)\n",
    "print(f\"Elapsed time: {(time.time() - start_time)/60:.2f} minutes\")\n",
    "print(x[0:5])"
   ]
  }
 ],
 "metadata": {
  "kernelspec": {
   "display_name": "Python 3 (ipykernel)",
   "language": "python",
   "name": "python3"
  },
  "language_info": {
   "codemirror_mode": {
    "name": "ipython",
    "version": 3
   },
   "file_extension": ".py",
   "mimetype": "text/x-python",
   "name": "python",
   "nbconvert_exporter": "python",
   "pygments_lexer": "ipython3",
   "version": "3.11.8"
  }
 },
 "nbformat": 4,
 "nbformat_minor": 5
}
