{
 "cells": [
  {
   "cell_type": "code",
   "execution_count": 1,
   "id": "74027361-6608-4fb7-b697-b5cbc6d98a80",
   "metadata": {},
   "outputs": [],
   "source": [
    "import numpy as np\n",
    "import polars as pl\n",
    "import time"
   ]
  },
  {
   "cell_type": "code",
   "execution_count": 9,
   "id": "28950882-d32f-4235-ba98-5694c12409e8",
   "metadata": {},
   "outputs": [
    {
     "data": {
      "text/html": [
       "<div><style>\n",
       ".dataframe > thead > tr,\n",
       ".dataframe > tbody > tr {\n",
       "  text-align: right;\n",
       "  white-space: pre-wrap;\n",
       "}\n",
       "</style>\n",
       "<small>shape: (5, 2)</small><table border=\"1\" class=\"dataframe\"><thead><tr><th>index</th><th>ecfp_pca</th></tr><tr><td>i32</td><td>list[f64]</td></tr></thead><tbody><tr><td>0</td><td>[-0.623631, 1.179455, … 0.042602]</td></tr><tr><td>1</td><td>[-1.059422, 0.214484, … -0.026173]</td></tr><tr><td>2</td><td>[-0.7829, 0.581478, … 0.137127]</td></tr><tr><td>3</td><td>[-0.613241, 0.365505, … 0.10522]</td></tr><tr><td>4</td><td>[3.472075, 0.095289, … -0.086727]</td></tr></tbody></table></div>"
      ],
      "text/plain": [
       "shape: (5, 2)\n",
       "┌───────┬───────────────────────────────────┐\n",
       "│ index ┆ ecfp_pca                          │\n",
       "│ ---   ┆ ---                               │\n",
       "│ i32   ┆ list[f64]                         │\n",
       "╞═══════╪═══════════════════════════════════╡\n",
       "│ 0     ┆ [-0.623631, 1.179455, … 0.042602… │\n",
       "│ 1     ┆ [-1.059422, 0.214484, … -0.02617… │\n",
       "│ 2     ┆ [-0.7829, 0.581478, … 0.137127]   │\n",
       "│ 3     ┆ [-0.613241, 0.365505, … 0.10522]  │\n",
       "│ 4     ┆ [3.472075, 0.095289, … -0.086727… │\n",
       "└───────┴───────────────────────────────────┘"
      ]
     },
     "execution_count": 9,
     "metadata": {},
     "output_type": "execute_result"
    }
   ],
   "source": [
    "blocks = pl.read_parquet('../out/train/building_blocks.parquet')\n",
    "blocks = blocks.with_columns(pl.col('index').cast(pl.Int32))\n",
    "blocks = blocks.select(['index', 'ecfp_pca'])\n",
    "blocks.head()"
   ]
  },
  {
   "cell_type": "code",
   "execution_count": 3,
   "id": "9141509c-4850-4085-95f9-06b8174b1c6b",
   "metadata": {},
   "outputs": [
    {
     "data": {
      "text/html": [
       "<div><style>\n",
       ".dataframe > thead > tr,\n",
       ".dataframe > tbody > tr {\n",
       "  text-align: right;\n",
       "  white-space: pre-wrap;\n",
       "}\n",
       "</style>\n",
       "<small>shape: (5, 4)</small><table border=\"1\" class=\"dataframe\"><thead><tr><th>molecule_id</th><th>buildingblock1_index</th><th>buildingblock2_index</th><th>buildingblock3_index</th></tr><tr><td>u32</td><td>i32</td><td>i32</td><td>i32</td></tr></thead><tbody><tr><td>0</td><td>4</td><td>2</td><td>0</td></tr><tr><td>1</td><td>4</td><td>2</td><td>1</td></tr><tr><td>2</td><td>4</td><td>2</td><td>2</td></tr><tr><td>3</td><td>4</td><td>2</td><td>11</td></tr><tr><td>4</td><td>4</td><td>2</td><td>18</td></tr></tbody></table></div>"
      ],
      "text/plain": [
       "shape: (5, 4)\n",
       "┌─────────────┬──────────────────────┬──────────────────────┬──────────────────────┐\n",
       "│ molecule_id ┆ buildingblock1_index ┆ buildingblock2_index ┆ buildingblock3_index │\n",
       "│ ---         ┆ ---                  ┆ ---                  ┆ ---                  │\n",
       "│ u32         ┆ i32                  ┆ i32                  ┆ i32                  │\n",
       "╞═════════════╪══════════════════════╪══════════════════════╪══════════════════════╡\n",
       "│ 0           ┆ 4                    ┆ 2                    ┆ 0                    │\n",
       "│ 1           ┆ 4                    ┆ 2                    ┆ 1                    │\n",
       "│ 2           ┆ 4                    ┆ 2                    ┆ 2                    │\n",
       "│ 3           ┆ 4                    ┆ 2                    ┆ 11                   │\n",
       "│ 4           ┆ 4                    ┆ 2                    ┆ 18                   │\n",
       "└─────────────┴──────────────────────┴──────────────────────┴──────────────────────┘"
      ]
     },
     "execution_count": 3,
     "metadata": {},
     "output_type": "execute_result"
    }
   ],
   "source": [
    "train = pl.read_parquet('../out/train/mols.parquet', n_rows = 100)\n",
    "train = train.select(['molecule_id', 'buildingblock1_index', 'buildingblock2_index', 'buildingblock3_index'])\n",
    "train.head()"
   ]
  },
  {
   "cell_type": "code",
   "execution_count": 4,
   "id": "8fdc79ac-57ce-4a5a-94eb-d805f79333ef",
   "metadata": {},
   "outputs": [
    {
     "name": "stdout",
     "output_type": "stream",
     "text": [
      "Elapsed time: 1.72 minutes\n",
      "[[ 3.47207511e+00  9.52888548e-02  1.36100695e+00 ... -1.23624085e-01\n",
      "   2.06185508e-02  4.26017057e-02]\n",
      " [ 3.47207511e+00  9.52888548e-02  1.36100695e+00 ... -2.33263095e-02\n",
      "   9.50242620e-02 -2.61726410e-02]\n",
      " [ 3.47207511e+00  9.52888548e-02  1.36100695e+00 ...  6.76700498e-04\n",
      "  -2.34305350e-02  1.37127162e-01]\n",
      " [ 3.47207511e+00  9.52888548e-02  1.36100695e+00 ...  1.47651512e-03\n",
      "  -5.06382091e-04 -1.01064856e-02]\n",
      " [ 3.47207511e+00  9.52888548e-02  1.36100695e+00 ... -1.86572024e-02\n",
      "   4.98181144e-02 -6.63089832e-02]]\n"
     ]
    }
   ],
   "source": [
    "def features(dt, blocks):\n",
    "    iblocks_ecfp_pca = [np.vstack(blocks['ecfp_pca'][dt[x]]) for x in ['buildingblock1_index', 'buildingblock2_index', 'buildingblock3_index']]\n",
    "    iblocks_ecfp_pca = np.concatenate(iblocks_ecfp_pca, axis = 1)\n",
    "    return(iblocks_ecfp_pca)\n",
    "\n",
    "start_time = time.time()\n",
    "for i in range(10000):\n",
    "    x = features(train, blocks)\n",
    "print(f\"Elapsed time: {(time.time() - start_time)/60:.2f} minutes\")\n",
    "print(x[0:5])"
   ]
  },
  {
   "cell_type": "code",
   "execution_count": 5,
   "id": "8b1dcbc2-0916-44d5-94d2-42b72c42e30c",
   "metadata": {},
   "outputs": [],
   "source": [
    "# def features(dt, blocks):\n",
    "#     iblocks_ecfp_pca = [[list(ix) for ix in blocks['ecfp_pca'][dt[x]]] for x in ['buildingblock1_index', 'buildingblock2_index', 'buildingblock3_index']]\n",
    "#     iblocks_ecfp_pca = np.concatenate(iblocks_ecfp_pca, axis = 1)\n",
    "#     return(iblocks_ecfp_pca)\n",
    "\n",
    "# start_time = time.time()\n",
    "# x = features(train, blocks)\n",
    "# print(f\"Elapsed time: {(time.time() - start_time)/60:.2f} minutes\")\n",
    "# print(x[0:5])\n",
    "\n",
    "# too long"
   ]
  },
  {
   "cell_type": "code",
   "execution_count": 6,
   "id": "2db9125a-31de-4001-bb97-d3d8e343e79e",
   "metadata": {},
   "outputs": [
    {
     "name": "stdout",
     "output_type": "stream",
     "text": [
      "Elapsed time: 2.93 minutes\n",
      "[[ 3.47207511e+00  9.52888548e-02  1.36100695e+00 ... -1.23624085e-01\n",
      "   2.06185508e-02  4.26017057e-02]\n",
      " [ 3.47207511e+00  9.52888548e-02  1.36100695e+00 ... -2.33263095e-02\n",
      "   9.50242620e-02 -2.61726410e-02]\n",
      " [ 3.47207511e+00  9.52888548e-02  1.36100695e+00 ...  6.76700498e-04\n",
      "  -2.34305350e-02  1.37127162e-01]\n",
      " [ 3.47207511e+00  9.52888548e-02  1.36100695e+00 ...  1.47651512e-03\n",
      "  -5.06382091e-04 -1.01064856e-02]\n",
      " [ 3.47207511e+00  9.52888548e-02  1.36100695e+00 ... -1.86572024e-02\n",
      "   4.98181144e-02 -6.63089832e-02]]\n"
     ]
    }
   ],
   "source": [
    "def features(dt, blocks):\n",
    "    \n",
    "    blocks_ecfp_pca = []\n",
    "    for i in ['buildingblock1_index', 'buildingblock2_index', 'buildingblock3_index']:\n",
    "        iblocks_ecfp_pca = blocks['ecfp_pca'][dt[i]].to_numpy()\n",
    "        iblocks_ecfp_pca = np.array([list(x) for x in iblocks_ecfp_pca]).astype('float')\n",
    "        blocks_ecfp_pca.append(iblocks_ecfp_pca)\n",
    "        del iblocks_ecfp_pca, i\n",
    "        \n",
    "    blocks_ecfp_pca = np.concatenate(blocks_ecfp_pca, axis = 1)\n",
    "    return(blocks_ecfp_pca)\n",
    "\n",
    "start_time = time.time()\n",
    "for i in range(10000):\n",
    "    x = features(train, blocks)\n",
    "print(f\"Elapsed time: {(time.time() - start_time)/60:.2f} minutes\")\n",
    "print(x[0:5])"
   ]
  },
  {
   "cell_type": "code",
   "execution_count": 7,
   "id": "c28c0a71-d597-42c5-a1d9-414e6fe631bf",
   "metadata": {},
   "outputs": [
    {
     "name": "stdout",
     "output_type": "stream",
     "text": [
      "Elapsed time: 1.24 minutes\n",
      "[[ 3.47207511e+00  9.52888548e-02  1.36100695e+00 ... -1.23624085e-01\n",
      "   2.06185508e-02  4.26017057e-02]\n",
      " [ 3.47207511e+00  9.52888548e-02  1.36100695e+00 ... -2.33263095e-02\n",
      "   9.50242620e-02 -2.61726410e-02]\n",
      " [ 3.47207511e+00  9.52888548e-02  1.36100695e+00 ...  6.76700498e-04\n",
      "  -2.34305350e-02  1.37127162e-01]\n",
      " [ 3.47207511e+00  9.52888548e-02  1.36100695e+00 ...  1.47651512e-03\n",
      "  -5.06382091e-04 -1.01064856e-02]\n",
      " [ 3.47207511e+00  9.52888548e-02  1.36100695e+00 ... -1.86572024e-02\n",
      "   4.98181144e-02 -6.63089832e-02]]\n"
     ]
    }
   ],
   "source": [
    "def features(dt, blocks):\n",
    "\n",
    "    dt = dt.join(blocks, left_on = 'buildingblock1_index', right_on = 'index', how = 'inner').drop('buildingblock1_index').rename({'ecfp_pca': 'ecfp_pca1'})\n",
    "    dt = dt.join(blocks, left_on = 'buildingblock2_index', right_on = 'index', how = 'inner').drop('buildingblock2_index').rename({'ecfp_pca': 'ecfp_pca2'})\n",
    "    dt = dt.join(blocks, left_on = 'buildingblock3_index', right_on = 'index', how = 'inner').drop('buildingblock3_index').rename({'ecfp_pca': 'ecfp_pca3'})\n",
    "\n",
    "    dt = dt.drop(['buildingblock1_index', 'buildingblock2_index', 'buildingblock3_index', 'index'])\n",
    "\n",
    "    features = dt['ecfp_pca1'].list.concat(\n",
    "        dt['ecfp_pca2'].list.concat(\n",
    "            dt['ecfp_pca3']\n",
    "    ))\n",
    "    del dt, blocks\n",
    "\n",
    "    return(np.vstack(features))\n",
    "\n",
    "start_time = time.time()\n",
    "for i in range(10000):\n",
    "    x = features(train, blocks)\n",
    "print(f\"Elapsed time: {(time.time() - start_time)/60:.2f} minutes\")\n",
    "print(x[0:5])"
   ]
  },
  {
   "cell_type": "code",
   "execution_count": 10,
   "id": "9ebef200-8613-4f22-8c65-dcd369495f74",
   "metadata": {},
   "outputs": [
    {
     "name": "stdout",
     "output_type": "stream",
     "text": [
      "Elapsed time: 1.19 minutes\n",
      "[[ 3.47207511e+00  9.52888548e-02  1.36100695e+00 ... -1.23624085e-01\n",
      "   2.06185508e-02  4.26017057e-02]\n",
      " [ 3.47207511e+00  9.52888548e-02  1.36100695e+00 ... -2.33263095e-02\n",
      "   9.50242620e-02 -2.61726410e-02]\n",
      " [ 3.47207511e+00  9.52888548e-02  1.36100695e+00 ...  6.76700498e-04\n",
      "  -2.34305350e-02  1.37127162e-01]\n",
      " [ 3.47207511e+00  9.52888548e-02  1.36100695e+00 ...  1.47651512e-03\n",
      "  -5.06382091e-04 -1.01064856e-02]\n",
      " [ 3.47207511e+00  9.52888548e-02  1.36100695e+00 ... -1.86572024e-02\n",
      "   4.98181144e-02 -6.63089832e-02]]\n"
     ]
    }
   ],
   "source": [
    "def features(dt, blocks):\n",
    "\n",
    "    dt = dt.join(blocks, left_on = 'buildingblock1_index', right_on = 'index', how = 'inner').drop('buildingblock1_index').rename({'ecfp_pca': 'ecfp_pca1'})\n",
    "    dt = dt.join(blocks, left_on = 'buildingblock2_index', right_on = 'index', how = 'inner').drop('buildingblock2_index').rename({'ecfp_pca': 'ecfp_pca2'})\n",
    "    dt = dt.join(blocks, left_on = 'buildingblock3_index', right_on = 'index', how = 'inner').drop('buildingblock3_index').rename({'ecfp_pca': 'ecfp_pca3'})\n",
    "\n",
    "    features = dt['ecfp_pca1'].list.concat(\n",
    "        dt['ecfp_pca2'].list.concat(\n",
    "            dt['ecfp_pca3']\n",
    "    ))\n",
    "\n",
    "    return(np.vstack(features))\n",
    "\n",
    "start_time = time.time()\n",
    "for i in range(10000):\n",
    "    x = features(train, blocks)\n",
    "print(f\"Elapsed time: {(time.time() - start_time)/60:.2f} minutes\")\n",
    "print(x[0:5])"
   ]
  },
  {
   "cell_type": "code",
   "execution_count": 12,
   "id": "7f8e88d1-bb21-44be-bca5-b2116bb0d8a9",
   "metadata": {},
   "outputs": [
    {
     "name": "stdout",
     "output_type": "stream",
     "text": [
      "Elapsed time: 1.14 minutes\n",
      "[[ 3.47207511e+00  9.52888548e-02  1.36100695e+00 ... -1.23624085e-01\n",
      "   2.06185508e-02  4.26017057e-02]\n",
      " [ 3.47207511e+00  9.52888548e-02  1.36100695e+00 ... -2.33263095e-02\n",
      "   9.50242620e-02 -2.61726410e-02]\n",
      " [ 3.47207511e+00  9.52888548e-02  1.36100695e+00 ...  6.76700498e-04\n",
      "  -2.34305350e-02  1.37127162e-01]\n",
      " [ 3.47207511e+00  9.52888548e-02  1.36100695e+00 ...  1.47651512e-03\n",
      "  -5.06382091e-04 -1.01064856e-02]\n",
      " [ 3.47207511e+00  9.52888548e-02  1.36100695e+00 ... -1.86572024e-02\n",
      "   4.98181144e-02 -6.63089832e-02]]\n"
     ]
    }
   ],
   "source": [
    "def features(dt, blocks):\n",
    "\n",
    "    idt = dt.join(blocks, left_on = 'buildingblock1_index', right_on = 'index', how = 'inner') \\\n",
    "        .rename({'ecfp_pca': 'ecfp_pca1'}) \\\n",
    "        .join(blocks, left_on = 'buildingblock2_index', right_on = 'index', how = 'inner') \\\n",
    "        .rename({'ecfp_pca': 'ecfp_pca2'}) \\\n",
    "        .join(blocks, left_on = 'buildingblock3_index', right_on = 'index', how = 'inner') \\\n",
    "        .rename({'ecfp_pca': 'ecfp_pca3'})\n",
    "\n",
    "    features = idt['ecfp_pca1'].list.concat(\n",
    "        idt['ecfp_pca2'].list.concat(\n",
    "            idt['ecfp_pca3']\n",
    "    ))\n",
    "\n",
    "    return(np.vstack(features))\n",
    "\n",
    "start_time = time.time()\n",
    "for i in range(10000):\n",
    "    x = features(train, blocks)\n",
    "print(f\"Elapsed time: {(time.time() - start_time)/60:.2f} minutes\")\n",
    "print(x[0:5])"
   ]
  },
  {
   "cell_type": "code",
   "execution_count": 17,
   "id": "c6637312-eed3-45ce-92eb-5855976c4d5c",
   "metadata": {},
   "outputs": [
    {
     "name": "stdout",
     "output_type": "stream",
     "text": [
      "Elapsed time: 1.19 minutes\n",
      "[[ 3.47207511e+00  9.52888548e-02  1.36100695e+00 ... -1.23624085e-01\n",
      "   2.06185508e-02  4.26017057e-02]\n",
      " [ 3.47207511e+00  9.52888548e-02  1.36100695e+00 ... -2.33263095e-02\n",
      "   9.50242620e-02 -2.61726410e-02]\n",
      " [ 3.47207511e+00  9.52888548e-02  1.36100695e+00 ...  6.76700498e-04\n",
      "  -2.34305350e-02  1.37127162e-01]\n",
      " [ 3.47207511e+00  9.52888548e-02  1.36100695e+00 ...  1.47651512e-03\n",
      "  -5.06382091e-04 -1.01064856e-02]\n",
      " [ 3.47207511e+00  9.52888548e-02  1.36100695e+00 ... -1.86572024e-02\n",
      "   4.98181144e-02 -6.63089832e-02]]\n"
     ]
    }
   ],
   "source": [
    "def features(dt, blocks):\n",
    "\n",
    "    idt = dt.join(blocks, left_on = 'buildingblock1_index', right_on = 'index', how = 'inner', suffix = '1') \\\n",
    "        .join(blocks, left_on = 'buildingblock2_index', right_on = 'index', how = 'inner', suffix = '2') \\\n",
    "        .join(blocks, left_on = 'buildingblock3_index', right_on = 'index', how = 'inner', suffix = '3')\n",
    "\n",
    "    features = idt['ecfp_pca'].list.concat(\n",
    "        idt['ecfp_pca2'].list.concat(\n",
    "            idt['ecfp_pca3']\n",
    "    ))\n",
    "\n",
    "    return(np.vstack(features))\n",
    "\n",
    "start_time = time.time()\n",
    "for i in range(10000):\n",
    "    x = features(train, blocks)\n",
    "print(f\"Elapsed time: {(time.time() - start_time)/60:.2f} minutes\")\n",
    "print(x[0:5])"
   ]
  },
  {
   "cell_type": "code",
   "execution_count": 18,
   "id": "34cca3bd-fa9a-44ee-868b-8835fdc4a7e3",
   "metadata": {},
   "outputs": [
    {
     "name": "stdout",
     "output_type": "stream",
     "text": [
      "Elapsed time: 1.17 minutes\n",
      "[[ 3.47207511e+00  9.52888548e-02  1.36100695e+00 ... -1.23624085e-01\n",
      "   2.06185508e-02  4.26017057e-02]\n",
      " [ 3.47207511e+00  9.52888548e-02  1.36100695e+00 ... -2.33263095e-02\n",
      "   9.50242620e-02 -2.61726410e-02]\n",
      " [ 3.47207511e+00  9.52888548e-02  1.36100695e+00 ...  6.76700498e-04\n",
      "  -2.34305350e-02  1.37127162e-01]\n",
      " [ 3.47207511e+00  9.52888548e-02  1.36100695e+00 ...  1.47651512e-03\n",
      "  -5.06382091e-04 -1.01064856e-02]\n",
      " [ 3.47207511e+00  9.52888548e-02  1.36100695e+00 ... -1.86572024e-02\n",
      "   4.98181144e-02 -6.63089832e-02]]\n"
     ]
    }
   ],
   "source": [
    "def features(dt, blocks):\n",
    "\n",
    "    idt = dt.join(blocks, left_on = 'buildingblock1_index', right_on = 'index', how = 'inner', suffix = '1') \\\n",
    "        .join(blocks, left_on = 'buildingblock2_index', right_on = 'index', how = 'inner', suffix = '2') \\\n",
    "        .join(blocks, left_on = 'buildingblock3_index', right_on = 'index', how = 'inner', suffix = '3')\n",
    "\n",
    "    features = idt['ecfp_pca'].list.concat(\n",
    "        idt['ecfp_pca2'].list.concat(\n",
    "            idt['ecfp_pca3']\n",
    "    ))\n",
    "\n",
    "    return(np.vstack(features, casting = 'no'))\n",
    "\n",
    "start_time = time.time()\n",
    "for i in range(10000):\n",
    "    x = features(train, blocks)\n",
    "print(f\"Elapsed time: {(time.time() - start_time)/60:.2f} minutes\")\n",
    "print(x[0:5])"
   ]
  }
 ],
 "metadata": {
  "kernelspec": {
   "display_name": "Python 3 (ipykernel)",
   "language": "python",
   "name": "python3"
  },
  "language_info": {
   "codemirror_mode": {
    "name": "ipython",
    "version": 3
   },
   "file_extension": ".py",
   "mimetype": "text/x-python",
   "name": "python",
   "nbconvert_exporter": "python",
   "pygments_lexer": "ipython3",
   "version": "3.11.8"
  }
 },
 "nbformat": 4,
 "nbformat_minor": 5
}
